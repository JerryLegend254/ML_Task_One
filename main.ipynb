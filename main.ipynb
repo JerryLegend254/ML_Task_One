{
 "cells": [
  {
   "cell_type": "markdown",
   "metadata": {},
   "source": [
    "## LOADING THE CSV DATA"
   ]
  },
  {
   "cell_type": "code",
   "execution_count": 93,
   "metadata": {},
   "outputs": [
    {
     "data": {
      "text/html": [
       "<div>\n",
       "<style scoped>\n",
       "    .dataframe tbody tr th:only-of-type {\n",
       "        vertical-align: middle;\n",
       "    }\n",
       "\n",
       "    .dataframe tbody tr th {\n",
       "        vertical-align: top;\n",
       "    }\n",
       "\n",
       "    .dataframe thead th {\n",
       "        text-align: right;\n",
       "    }\n",
       "</style>\n",
       "<table border=\"1\" class=\"dataframe\">\n",
       "  <thead>\n",
       "    <tr style=\"text-align: right;\">\n",
       "      <th></th>\n",
       "      <th>LOC</th>\n",
       "      <th>FUR</th>\n",
       "      <th>AMB</th>\n",
       "      <th>PROX_SCH</th>\n",
       "      <th>PROX_ROAD</th>\n",
       "      <th>PROX_MALL</th>\n",
       "      <th>WATER</th>\n",
       "      <th>HK_SER</th>\n",
       "      <th>SIZE</th>\n",
       "      <th>PRICE</th>\n",
       "    </tr>\n",
       "  </thead>\n",
       "  <tbody>\n",
       "    <tr>\n",
       "      <th>0</th>\n",
       "      <td>karen</td>\n",
       "      <td>yes</td>\n",
       "      <td>serene</td>\n",
       "      <td>no</td>\n",
       "      <td>yes</td>\n",
       "      <td>yes</td>\n",
       "      <td>yes</td>\n",
       "      <td>yes</td>\n",
       "      <td>32.502345</td>\n",
       "      <td>31.707006</td>\n",
       "    </tr>\n",
       "    <tr>\n",
       "      <th>1</th>\n",
       "      <td>madaraka</td>\n",
       "      <td>yes</td>\n",
       "      <td>semi_serene</td>\n",
       "      <td>yes</td>\n",
       "      <td>yes</td>\n",
       "      <td>yes</td>\n",
       "      <td>no</td>\n",
       "      <td>no</td>\n",
       "      <td>53.426804</td>\n",
       "      <td>68.777596</td>\n",
       "    </tr>\n",
       "    <tr>\n",
       "      <th>2</th>\n",
       "      <td>karen</td>\n",
       "      <td>no</td>\n",
       "      <td>noisy</td>\n",
       "      <td>no</td>\n",
       "      <td>yes</td>\n",
       "      <td>yes</td>\n",
       "      <td>yes</td>\n",
       "      <td>yes</td>\n",
       "      <td>61.530358</td>\n",
       "      <td>62.562382</td>\n",
       "    </tr>\n",
       "    <tr>\n",
       "      <th>3</th>\n",
       "      <td>karen</td>\n",
       "      <td>yes</td>\n",
       "      <td>semi_serene</td>\n",
       "      <td>no</td>\n",
       "      <td>no</td>\n",
       "      <td>no</td>\n",
       "      <td>yes</td>\n",
       "      <td>yes</td>\n",
       "      <td>47.475640</td>\n",
       "      <td>71.546632</td>\n",
       "    </tr>\n",
       "    <tr>\n",
       "      <th>4</th>\n",
       "      <td>buruburu</td>\n",
       "      <td>no</td>\n",
       "      <td>semi_serene</td>\n",
       "      <td>no</td>\n",
       "      <td>yes</td>\n",
       "      <td>yes</td>\n",
       "      <td>yes</td>\n",
       "      <td>yes</td>\n",
       "      <td>59.813208</td>\n",
       "      <td>87.230925</td>\n",
       "    </tr>\n",
       "    <tr>\n",
       "      <th>5</th>\n",
       "      <td>donholm</td>\n",
       "      <td>no</td>\n",
       "      <td>serene</td>\n",
       "      <td>no</td>\n",
       "      <td>no</td>\n",
       "      <td>yes</td>\n",
       "      <td>no</td>\n",
       "      <td>yes</td>\n",
       "      <td>55.142188</td>\n",
       "      <td>78.211518</td>\n",
       "    </tr>\n",
       "    <tr>\n",
       "      <th>6</th>\n",
       "      <td>langata</td>\n",
       "      <td>no</td>\n",
       "      <td>very_noisy</td>\n",
       "      <td>yes</td>\n",
       "      <td>yes</td>\n",
       "      <td>no</td>\n",
       "      <td>no</td>\n",
       "      <td>yes</td>\n",
       "      <td>52.211797</td>\n",
       "      <td>79.641973</td>\n",
       "    </tr>\n",
       "    <tr>\n",
       "      <th>7</th>\n",
       "      <td>langata</td>\n",
       "      <td>yes</td>\n",
       "      <td>serene</td>\n",
       "      <td>no</td>\n",
       "      <td>no</td>\n",
       "      <td>yes</td>\n",
       "      <td>yes</td>\n",
       "      <td>no</td>\n",
       "      <td>39.299567</td>\n",
       "      <td>59.171489</td>\n",
       "    </tr>\n",
       "    <tr>\n",
       "      <th>8</th>\n",
       "      <td>donholm</td>\n",
       "      <td>yes</td>\n",
       "      <td>semi_serene</td>\n",
       "      <td>yes</td>\n",
       "      <td>no</td>\n",
       "      <td>no</td>\n",
       "      <td>yes</td>\n",
       "      <td>no</td>\n",
       "      <td>48.105042</td>\n",
       "      <td>75.331242</td>\n",
       "    </tr>\n",
       "    <tr>\n",
       "      <th>9</th>\n",
       "      <td>karen</td>\n",
       "      <td>yes</td>\n",
       "      <td>serene</td>\n",
       "      <td>no</td>\n",
       "      <td>no</td>\n",
       "      <td>no</td>\n",
       "      <td>no</td>\n",
       "      <td>no</td>\n",
       "      <td>52.550014</td>\n",
       "      <td>71.300880</td>\n",
       "    </tr>\n",
       "    <tr>\n",
       "      <th>10</th>\n",
       "      <td>madaraka</td>\n",
       "      <td>yes</td>\n",
       "      <td>noisy</td>\n",
       "      <td>yes</td>\n",
       "      <td>yes</td>\n",
       "      <td>no</td>\n",
       "      <td>yes</td>\n",
       "      <td>yes</td>\n",
       "      <td>45.419730</td>\n",
       "      <td>55.165677</td>\n",
       "    </tr>\n",
       "    <tr>\n",
       "      <th>11</th>\n",
       "      <td>langata</td>\n",
       "      <td>no</td>\n",
       "      <td>semi_serene</td>\n",
       "      <td>yes</td>\n",
       "      <td>no</td>\n",
       "      <td>yes</td>\n",
       "      <td>yes</td>\n",
       "      <td>yes</td>\n",
       "      <td>54.351635</td>\n",
       "      <td>82.478847</td>\n",
       "    </tr>\n",
       "    <tr>\n",
       "      <th>12</th>\n",
       "      <td>buruburu</td>\n",
       "      <td>yes</td>\n",
       "      <td>semi_serene</td>\n",
       "      <td>yes</td>\n",
       "      <td>yes</td>\n",
       "      <td>no</td>\n",
       "      <td>no</td>\n",
       "      <td>no</td>\n",
       "      <td>44.164049</td>\n",
       "      <td>62.008923</td>\n",
       "    </tr>\n",
       "    <tr>\n",
       "      <th>13</th>\n",
       "      <td>karen</td>\n",
       "      <td>yes</td>\n",
       "      <td>semi_serene</td>\n",
       "      <td>yes</td>\n",
       "      <td>yes</td>\n",
       "      <td>yes</td>\n",
       "      <td>yes</td>\n",
       "      <td>yes</td>\n",
       "      <td>58.168471</td>\n",
       "      <td>75.392870</td>\n",
       "    </tr>\n",
       "  </tbody>\n",
       "</table>\n",
       "</div>"
      ],
      "text/plain": [
       "         LOC  FUR          AMB PROX_SCH PROX_ROAD PROX_MALL WATER HK_SER  \\\n",
       "0      karen  yes       serene       no       yes       yes   yes    yes   \n",
       "1   madaraka  yes  semi_serene      yes       yes       yes    no     no   \n",
       "2      karen   no        noisy       no       yes       yes   yes    yes   \n",
       "3      karen  yes  semi_serene       no        no        no   yes    yes   \n",
       "4   buruburu   no  semi_serene       no       yes       yes   yes    yes   \n",
       "5    donholm   no       serene       no        no       yes    no    yes   \n",
       "6    langata   no   very_noisy      yes       yes        no    no    yes   \n",
       "7    langata  yes       serene       no        no       yes   yes     no   \n",
       "8    donholm  yes  semi_serene      yes        no        no   yes     no   \n",
       "9      karen  yes       serene       no        no        no    no     no   \n",
       "10  madaraka  yes        noisy      yes       yes        no   yes    yes   \n",
       "11   langata   no  semi_serene      yes        no       yes   yes    yes   \n",
       "12  buruburu  yes  semi_serene      yes       yes        no    no     no   \n",
       "13     karen  yes  semi_serene      yes       yes       yes   yes    yes   \n",
       "\n",
       "         SIZE      PRICE  \n",
       "0   32.502345  31.707006  \n",
       "1   53.426804  68.777596  \n",
       "2   61.530358  62.562382  \n",
       "3   47.475640  71.546632  \n",
       "4   59.813208  87.230925  \n",
       "5   55.142188  78.211518  \n",
       "6   52.211797  79.641973  \n",
       "7   39.299567  59.171489  \n",
       "8   48.105042  75.331242  \n",
       "9   52.550014  71.300880  \n",
       "10  45.419730  55.165677  \n",
       "11  54.351635  82.478847  \n",
       "12  44.164049  62.008923  \n",
       "13  58.168471  75.392870  "
      ]
     },
     "execution_count": 93,
     "metadata": {},
     "output_type": "execute_result"
    }
   ],
   "source": [
    "import pandas as pd\n",
    "df = pd.read_csv(\"data.csv\")\n",
    "df"
   ]
  },
  {
   "cell_type": "markdown",
   "metadata": {},
   "source": [
    "## EXTRACTING FEATURES AND CORRESPONDING TARGETS"
   ]
  },
  {
   "cell_type": "code",
   "execution_count": 94,
   "metadata": {},
   "outputs": [],
   "source": [
    "X = df['SIZE'].values.reshape(-1,1)\n",
    "y = df['PRICE'].values"
   ]
  },
  {
   "cell_type": "markdown",
   "metadata": {},
   "source": [
    "## NORMALIZING THE FEATURES"
   ]
  },
  {
   "cell_type": "code",
   "execution_count": 95,
   "metadata": {},
   "outputs": [],
   "source": [
    "from sklearn.preprocessing import StandardScaler\n",
    "scaler_X = StandardScaler()\n",
    "scaler_y = StandardScaler()\n",
    "\n",
    "X_scaled = scaler_X.fit_transform(X)\n",
    "y_scaled = scaler_y.fit_transform(y.reshape(-1, 1)).ravel()"
   ]
  },
  {
   "cell_type": "markdown",
   "metadata": {},
   "source": [
    "## UTIL FUNCTIONS FOR COMPUTING MSE AND GRADIENT DESCENT"
   ]
  },
  {
   "cell_type": "code",
   "execution_count": 96,
   "metadata": {},
   "outputs": [],
   "source": [
    "import numpy as np\n",
    "def compute_mse(y_true, y_pred):\n",
    "    return np.mean((y_true - y_pred) ** 2)\n",
    "\n",
    "def gradient_descent(X, y, m, c, learning_rate=0.01, momentum=0.9, epochs=10):\n",
    "    n = len(X)\n",
    "    errors = []\n",
    "\n",
    "    # Init momentum terms\n",
    "    v_m = 0\n",
    "    v_c = 0\n",
    "\n",
    "    best_error = float('inf')\n",
    "    best_params = (m, c)\n",
    "\n",
    "    for epoch in range(epochs):\n",
    "        # Compute predictions\n",
    "        y_pred = m * X + c\n",
    "\n",
    "        # Compute error\n",
    "        error = compute_mse(y, y_pred)\n",
    "        errors.append(error)\n",
    "\n",
    "        # Save best parameters\n",
    "        if error < best_error:\n",
    "            best_error = error\n",
    "            best_params = (m, c)\n",
    "\n",
    "        if epoch % 100 == 0:  # Print every 100 epochs\n",
    "            print(f\"Epoch {epoch}, Error: {error:.4f}\")\n",
    "\n",
    "        # Compute gradients\n",
    "        dm = (-2/n) * np.sum(X * (y - y_pred))\n",
    "        dc = (-2/n) * np.sum(y - y_pred)\n",
    "\n",
    "        # Update velocity terms\n",
    "        v_m = momentum * v_m - learning_rate * dm\n",
    "        v_c = momentum * v_c - learning_rate * dc\n",
    "\n",
    "        # Update parameters\n",
    "        m = m + v_m\n",
    "        c = c + v_c\n",
    "\n",
    "    return best_params[0], best_params[1], errors"
   ]
  },
  {
   "cell_type": "markdown",
   "metadata": {},
   "source": [
    "## SET INITIAL VALUES FOR SLOPE AND INTERCEPT"
   ]
  },
  {
   "cell_type": "code",
   "execution_count": 97,
   "metadata": {},
   "outputs": [],
   "source": [
    "initial_m = 0\n",
    "initial_c = 0"
   ]
  },
  {
   "cell_type": "markdown",
   "metadata": {},
   "source": [
    "## TRAINING THE MODEL"
   ]
  },
  {
   "cell_type": "code",
   "execution_count": 98,
   "metadata": {},
   "outputs": [
    {
     "name": "stdout",
     "output_type": "stream",
     "text": [
      "Epoch 0, Error: 1.0000\n"
     ]
    }
   ],
   "source": [
    "final_m, final_c, errors = gradient_descent(X_scaled.ravel(), y_scaled, initial_m, initial_c)"
   ]
  },
  {
   "cell_type": "markdown",
   "metadata": {},
   "source": [
    "## FUNC TO RETURN SCALED VALUES TO ORIGINAL"
   ]
  },
  {
   "cell_type": "code",
   "execution_count": 99,
   "metadata": {},
   "outputs": [],
   "source": [
    "def convert_params_to_original_scale(m, c, scaler_X, scaler_y):\n",
    "    m_original = m * (scaler_y.scale_[0] / scaler_X.scale_[0])\n",
    "\n",
    "    c_original = (c * scaler_y.scale_[0] + scaler_y.mean_[0] - m_original * scaler_X.mean_[0])\n",
    "\n",
    "    return m_original, c_original\n",
    "\n",
    "m_original, c_original = convert_params_to_original_scale(final_m, final_c, scaler_X, scaler_y)"
   ]
  },
  {
   "cell_type": "markdown",
   "metadata": {},
   "source": [
    "## INIT DATA VISUALIZATION"
   ]
  },
  {
   "cell_type": "code",
   "execution_count": 100,
   "metadata": {},
   "outputs": [
    {
     "data": {
      "text/plain": [
       "<Figure size 1500x500 with 0 Axes>"
      ]
     },
     "execution_count": 100,
     "metadata": {},
     "output_type": "execute_result"
    },
    {
     "data": {
      "text/plain": [
       "<Figure size 1500x500 with 0 Axes>"
      ]
     },
     "metadata": {},
     "output_type": "display_data"
    }
   ],
   "source": [
    "import matplotlib.pyplot as plt\n",
    "plt.figure(figsize=(15, 5))"
   ]
  },
  {
   "cell_type": "markdown",
   "metadata": {},
   "source": [
    "## DATA VS REGRESSION LINE"
   ]
  },
  {
   "cell_type": "code",
   "execution_count": 101,
   "metadata": {},
   "outputs": [
    {
     "data": {
      "image/png": "[encoded data removed]",
      "text/plain": [
       "<Figure size 640x480 with 1 Axes>"
      ]
     },
     "metadata": {},
     "output_type": "display_data"
    }
   ],
   "source": [
    "plt.subplot(1, 2, 1)\n",
    "plt.scatter(X, y, color='blue', alpha=0.5, label='Data points')\n",
    "X_line = np.array([min(X), max(X)])\n",
    "y_line = m_original * X_line + c_original\n",
    "plt.plot(X_line, y_line.ravel(), color='red', label='LoBF')\n",
    "plt.xlabel('Office Size (sq. ft.)')\n",
    "plt.ylabel('Price')\n",
    "plt.title('Nrb Office Prices: Linear Regression')\n",
    "plt.legend()\n",
    "plt.grid(True)"
   ]
  },
  {
   "cell_type": "markdown",
   "metadata": {},
   "source": [
    "## ERROR OVER EPOCHS"
   ]
  },
  {
   "cell_type": "code",
   "execution_count": 102,
   "metadata": {},
   "outputs": [
    {
     "data": {
      "image/png": "[encoded data removed]",
      "text/plain": [
       "<Figure size 640x480 with 1 Axes>"
      ]
     },
     "metadata": {},
     "output_type": "display_data"
    }
   ],
   "source": [
    "plt.subplot(1, 2, 2)\n",
    "plt.plot(range(1, len(errors) + 1), errors, alpha=0.5)\n",
    "plt.xlabel('Epoch')\n",
    "plt.ylabel('Mean Squared Error (Scaled)')\n",
    "plt.title('Error vs. Epoch')\n",
    "plt.grid(True)\n",
    "\n",
    "plt.tight_layout()\n",
    "plt.show()"
   ]
  },
  {
   "cell_type": "markdown",
   "metadata": {},
   "source": [
    "## PRINT FINAL RESULTS"
   ]
  },
  {
   "cell_type": "code",
   "execution_count": 103,
   "metadata": {},
   "outputs": [
    {
     "name": "stdout",
     "output_type": "stream",
     "text": [
      "Final m: 0.4637\n",
      "Final intercept (c): 0.0000\n",
      "Final MSE: 0.5016\n"
     ]
    }
   ],
   "source": [
    "print(f\"Final m: {final_m:.4f}\")\n",
    "print(f\"Final intercept (c): {final_c:.4f}\")\n",
    "print(f\"Final MSE: {errors[-1]:.4f}\")"
   ]
  },
  {
   "cell_type": "markdown",
   "metadata": {},
   "source": [
    "## PREDITING USING MODEL"
   ]
  },
  {
   "cell_type": "code",
   "execution_count": 104,
   "metadata": {},
   "outputs": [
    {
     "name": "stdout",
     "output_type": "stream",
     "text": [
      "Predicted price for office size 100 sq.ft: $108.73\n"
     ]
    }
   ],
   "source": [
    "pred_size = 100\n",
    "pred_price = m_original * pred_size + c_original\n",
    "\n",
    "print(f\"Predicted price for office size {pred_size} sq.ft: ${pred_price:.2f}\")"
   ]
  },
  {
   "cell_type": "markdown",
   "metadata": {},
   "source": [
    "## PRINT MODEL PERF METRICS"
   ]
  },
  {
   "cell_type": "code",
   "execution_count": 105,
   "metadata": {},
   "outputs": [
    {
     "name": "stdout",
     "output_type": "stream",
     "text": [
      "Final MSE: 223.2070\n",
      "R^2: 0.4984\n"
     ]
    }
   ],
   "source": [
    "y_pred = m_original * X + c_original\n",
    "final_mse = compute_mse(y, y_pred)\n",
    "r2 = 1 - (np.sum((y - y_pred.ravel())**2) / np.sum((y - np.mean(y))**2))\n",
    "\n",
    "print(f\"Final MSE: {final_mse:.4f}\")\n",
    "print(f\"R^2: {r2:.4f}\")"
   ]
  },
  {
   "cell_type": "markdown",
   "metadata": {},
   "source": [
    "## SUMMARY"
   ]
  },
  {
   "cell_type": "code",
   "execution_count": 106,
   "metadata": {},
   "outputs": [
    {
     "name": "stdout",
     "output_type": "stream",
     "text": [
      "       Actual Size  Actual Price  Predicted Price      Residual\n",
      "count    14.000000     14.000000        14.000000  1.400000e+01\n",
      "mean     50.297203     68.609140        68.609140  6.090366e-15\n",
      "std       8.080935     14.065415         6.522338  9.961777e+00\n",
      "min      32.502345     31.707006        54.246436 -2.253943e+01\n",
      "25%      45.933708     62.147288        65.087246 -2.180642e+00\n",
      "50%      52.380906     71.423756        70.290952  6.520282e-01\n",
      "75%      54.944550     77.506856        72.360138  7.791556e+00\n",
      "max      61.530358     87.230925        77.675719  1.094116e+01\n"
     ]
    }
   ],
   "source": [
    "summary_df = pd.DataFrame({\n",
    "    'Actual Size': X.ravel(),\n",
    "    'Actual Price': y,\n",
    "    'Predicted Price': y_pred.ravel(),\n",
    "    'Residual': y - y_pred.ravel()\n",
    "})\n",
    "\n",
    "print(summary_df.describe())"
   ]
  }
 ],
 "metadata": {
  "kernelspec": {
   "display_name": "Python 3",
   "language": "python",
   "name": "python3"
  },
  "language_info": {
   "codemirror_mode": {
    "name": "ipython",
    "version": 3
   },
   "file_extension": ".py",
   "mimetype": "text/x-python",
   "name": "python",
   "nbconvert_exporter": "python",
   "pygments_lexer": "ipython3",
   "version": "3.12.7"
  }
 },
 "nbformat": 4,
 "nbformat_minor": 2
}
